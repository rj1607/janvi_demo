{
 "cells": [
  {
   "cell_type": "code",
   "execution_count": 1,
   "id": "70d94b30-f088-4805-86d9-da39e1913242",
   "metadata": {},
   "outputs": [],
   "source": [
    "# Group 3 members\n",
    "# Janvi Rana-101558513\n",
    "# Emilja Beneja-101539688\n",
    "# Sotir Xhixho-101557069\n",
    "# Jay Shah - 101539640\n",
    "# Adrian Menezes - 101474688\n",
    "# Rutika Bhuva-101551781\n",
    "# Devraj Sahu-101549154\n",
    "# Indira Chetty-101545625\n",
    "# Mohit \n",
    "# Nilam"
   ]
  },
  {
   "cell_type": "code",
   "execution_count": 2,
   "id": "c458da7e-4e42-442a-bbb1-f6d23360b454",
   "metadata": {},
   "outputs": [],
   "source": [
    "# 1 importing numpy\n",
    "import numpy as np"
   ]
  },
  {
   "cell_type": "code",
   "execution_count": 3,
   "id": "4823685e-a470-49fb-b09a-792ecfb880d3",
   "metadata": {},
   "outputs": [],
   "source": [
    "# 2  Create a numpy array with the elements \"1, 2, 3, 5, 0\", print the array and test if all of its elements are non-zero."
   ]
  },
  {
   "cell_type": "code",
   "execution_count": 4,
   "id": "a10142b4-2b56-44f7-ac23-4a582cb55259",
   "metadata": {},
   "outputs": [],
   "source": [
    "# create a numpy array with elements \"1,2,3,5,0\""
   ]
  },
  {
   "cell_type": "code",
   "execution_count": 5,
   "id": "9b236e08-e70a-4a71-bd0c-b434771fa379",
   "metadata": {},
   "outputs": [],
   "source": [
    "arr1 = np.array([1,2,3,5,0])"
   ]
  },
  {
   "cell_type": "code",
   "execution_count": 6,
   "id": "081cf226-22c4-4c57-87f8-2f3225c1f8f4",
   "metadata": {},
   "outputs": [],
   "source": [
    "# print the array"
   ]
  },
  {
   "cell_type": "code",
   "execution_count": 8,
   "id": "146bfbf3-2c49-4394-8963-52fa428834d1",
   "metadata": {},
   "outputs": [
    {
     "name": "stdout",
     "output_type": "stream",
     "text": [
      "Number: [1 2 3 5 0]\n"
     ]
    }
   ],
   "source": [
    "print(\"Number:\" ,arr1)"
   ]
  },
  {
   "cell_type": "code",
   "execution_count": 9,
   "id": "8001e7af-5f11-4a0b-81c5-bc6f79ee647a",
   "metadata": {},
   "outputs": [],
   "source": [
    "# test if any of its elements is non-zero"
   ]
  },
  {
   "cell_type": "code",
   "execution_count": 10,
   "id": "ec709b45-2465-47f5-b2c8-fc0f4107329c",
   "metadata": {},
   "outputs": [],
   "source": [
    "all_non_zero= np.all(arr1)"
   ]
  },
  {
   "cell_type": "code",
   "execution_count": 11,
   "id": "dd7997ad-473a-418a-946d-94177bc4e354",
   "metadata": {},
   "outputs": [
    {
     "name": "stdout",
     "output_type": "stream",
     "text": [
      "All the elemnets are non-zero or not: False\n"
     ]
    }
   ],
   "source": [
    "print(\"All the elemnets are non-zero or not:\" ,all_non_zero)"
   ]
  },
  {
   "cell_type": "code",
   "execution_count": 12,
   "id": "c96723f6-8078-4a77-a80f-a97c3335a0e4",
   "metadata": {},
   "outputs": [],
   "source": [
    "# 3 Create a numpy array with the elements \"3, -1, 3, 7, 2\", print the array and test if any of its elements is non-zero."
   ]
  },
  {
   "cell_type": "code",
   "execution_count": 113,
   "id": "a2993873-b51f-45d6-b98e-72e543d4ae06",
   "metadata": {},
   "outputs": [],
   "source": [
    "# create a numpy array with elements \"3,-1,3,7,2\""
   ]
  },
  {
   "cell_type": "code",
   "execution_count": 15,
   "id": "19d93f06-e39e-49b8-9bb7-8fbf95ae3752",
   "metadata": {},
   "outputs": [],
   "source": [
    "arr2 = np.array([3,-1,3,7,2])"
   ]
  },
  {
   "cell_type": "code",
   "execution_count": 18,
   "id": "1fb26316-4be8-434a-909b-abe25f9aeed5",
   "metadata": {},
   "outputs": [],
   "source": [
    "# print the array"
   ]
  },
  {
   "cell_type": "code",
   "execution_count": 19,
   "id": "81d4d55a-3a6f-4315-8b40-28dec78689f1",
   "metadata": {},
   "outputs": [
    {
     "name": "stdout",
     "output_type": "stream",
     "text": [
      "Number: [ 3 -1  3  7  2]\n"
     ]
    }
   ],
   "source": [
    "print(\"Number:\" ,arr2)"
   ]
  },
  {
   "cell_type": "code",
   "execution_count": 20,
   "id": "77ccaf56-3058-41ca-b382-2f972cc817a3",
   "metadata": {},
   "outputs": [],
   "source": [
    "# test if any of its elements is non-zero"
   ]
  },
  {
   "cell_type": "code",
   "execution_count": 21,
   "id": "33f96465-bdbf-4a5e-a304-b325154c584a",
   "metadata": {},
   "outputs": [],
   "source": [
    "any_non_zero= np.all(arr2)"
   ]
  },
  {
   "cell_type": "code",
   "execution_count": 22,
   "id": "92c490d4-0e80-4dfd-9930-7464b9639d99",
   "metadata": {},
   "outputs": [
    {
     "name": "stdout",
     "output_type": "stream",
     "text": [
      "Any of the elemnets are non-zero or not: True\n"
     ]
    }
   ],
   "source": [
    "print(\"Any of the elemnets are non-zero or not:\" ,any_non_zero)"
   ]
  },
  {
   "cell_type": "code",
   "execution_count": 114,
   "id": "aff6f227-5a8c-4fc6-b2c8-12345932e028",
   "metadata": {},
   "outputs": [],
   "source": [
    "# 4  Create a numpy array with the elements \"0, 0, 0, 0\", print the array and test if any of its elements is non-zero."
   ]
  },
  {
   "cell_type": "code",
   "execution_count": 25,
   "id": "6f24a03f-4fe2-4bab-933a-11b373c9c290",
   "metadata": {},
   "outputs": [],
   "source": [
    "# Create a numpy array with the elements \"0, 0, 0, 0\""
   ]
  },
  {
   "cell_type": "code",
   "execution_count": 29,
   "id": "c4e95cb1-20b4-47dc-91f7-e394014dfc18",
   "metadata": {},
   "outputs": [],
   "source": [
    "arr3 = np.array([0, 0, 0, 0])"
   ]
  },
  {
   "cell_type": "code",
   "execution_count": 27,
   "id": "81534e9a-2dc6-433b-8021-c4a43571d205",
   "metadata": {},
   "outputs": [],
   "source": [
    "# print the array"
   ]
  },
  {
   "cell_type": "code",
   "execution_count": 30,
   "id": "5cd543bd-9e5e-4e6f-b39a-203164fedb5c",
   "metadata": {},
   "outputs": [
    {
     "name": "stdout",
     "output_type": "stream",
     "text": [
      "Number: [0 0 0 0]\n"
     ]
    }
   ],
   "source": [
    "print(\"Number:\" ,arr3)"
   ]
  },
  {
   "cell_type": "code",
   "execution_count": 31,
   "id": "34c89d67-cca8-4d1e-9ee0-7d2c75e02acc",
   "metadata": {},
   "outputs": [],
   "source": [
    "# test if any of its elements is non-zero"
   ]
  },
  {
   "cell_type": "code",
   "execution_count": 32,
   "id": "3eb20006-954d-451b-be7f-5b5f54fd33dd",
   "metadata": {},
   "outputs": [],
   "source": [
    "any_non_zero= np.all(arr3)"
   ]
  },
  {
   "cell_type": "code",
   "execution_count": 33,
   "id": "7f5dd918-d54a-4b94-9a4e-212948957119",
   "metadata": {},
   "outputs": [
    {
     "name": "stdout",
     "output_type": "stream",
     "text": [
      "Any of the elemnets are non-zero or not: False\n"
     ]
    }
   ],
   "source": [
    "print(\"Any of the elemnets are non-zero or not:\" ,any_non_zero)"
   ]
  },
  {
   "cell_type": "code",
   "execution_count": 34,
   "id": "7b7f6ab2-060b-4546-b02c-c8622aafe553",
   "metadata": {},
   "outputs": [],
   "source": [
    "# 5 Create a numpy array with the elements \"56, -2, 7\", print the array and the amount of memory required to store it."
   ]
  },
  {
   "cell_type": "code",
   "execution_count": 35,
   "id": "f1774847-2d2d-4253-bf80-ab8b730d7795",
   "metadata": {},
   "outputs": [],
   "source": [
    "# Create a numpy array with the elements \"56, -2, 7\""
   ]
  },
  {
   "cell_type": "code",
   "execution_count": 36,
   "id": "7b0f33c4-eb6b-4a06-b903-5d45766b6dd8",
   "metadata": {},
   "outputs": [],
   "source": [
    "arr4 = np.array([56, -2, 7])"
   ]
  },
  {
   "cell_type": "code",
   "execution_count": 37,
   "id": "87d2732c-9933-4482-a74c-8b27985cc3cf",
   "metadata": {},
   "outputs": [],
   "source": [
    "# print the array"
   ]
  },
  {
   "cell_type": "code",
   "execution_count": 38,
   "id": "bc4f02a6-07f0-4552-b63c-4fd3c5965d8f",
   "metadata": {},
   "outputs": [
    {
     "name": "stdout",
     "output_type": "stream",
     "text": [
      "Number: [56 -2  7]\n"
     ]
    }
   ],
   "source": [
    "print(\"Number:\" ,arr4)"
   ]
  },
  {
   "cell_type": "code",
   "execution_count": 39,
   "id": "ac38bd50-b3d8-4151-9917-6a65a7b1fb22",
   "metadata": {},
   "outputs": [],
   "source": [
    "# the amount of memory required to store it."
   ]
  },
  {
   "cell_type": "code",
   "execution_count": 42,
   "id": "0c93232d-c9b9-46ac-a09a-12562b47930b",
   "metadata": {},
   "outputs": [],
   "source": [
    "memory_size=arr4.itemsize*arr4.size"
   ]
  },
  {
   "cell_type": "code",
   "execution_count": 43,
   "id": "c073e96e-3ec6-405a-a137-874ca1b2e418",
   "metadata": {},
   "outputs": [
    {
     "name": "stdout",
     "output_type": "stream",
     "text": [
      "the amount of memory required to store it: 12\n"
     ]
    }
   ],
   "source": [
    "print(\"the amount of memory required to store it:\", memory_size)"
   ]
  },
  {
   "cell_type": "code",
   "execution_count": 44,
   "id": "359ac540-f48f-480d-9fff-81af9f49e4ad",
   "metadata": {},
   "outputs": [],
   "source": [
    "# 6 Create a numpy array with 10 zeros and print the array."
   ]
  },
  {
   "cell_type": "code",
   "execution_count": 45,
   "id": "696b9afe-f780-490d-a418-28e4f8738d6b",
   "metadata": {},
   "outputs": [],
   "source": [
    "# Create a numpy array with 10 zeros"
   ]
  },
  {
   "cell_type": "code",
   "execution_count": 47,
   "id": "f331266a-9fb7-4451-b4c9-11e340674741",
   "metadata": {},
   "outputs": [],
   "source": [
    "arr5 = np.zeros(10)"
   ]
  },
  {
   "cell_type": "code",
   "execution_count": 48,
   "id": "b28360c1-785e-434d-886c-4347c4468bb3",
   "metadata": {},
   "outputs": [],
   "source": [
    "# print the array"
   ]
  },
  {
   "cell_type": "code",
   "execution_count": 50,
   "id": "fc722d0f-d006-49a0-9971-6703464c793f",
   "metadata": {},
   "outputs": [
    {
     "name": "stdout",
     "output_type": "stream",
     "text": [
      "print the array: [0. 0. 0. 0. 0. 0. 0. 0. 0. 0.]\n"
     ]
    }
   ],
   "source": [
    "print(\"print the array:\" ,arr5)"
   ]
  },
  {
   "cell_type": "code",
   "execution_count": 51,
   "id": "e2e972d2-71cc-4f8f-aacd-879788d9b207",
   "metadata": {},
   "outputs": [],
   "source": [
    "# 7 Create a numpy array with 6 ones and print the array."
   ]
  },
  {
   "cell_type": "code",
   "execution_count": 52,
   "id": "9562cbb1-bae6-4617-be88-9a61ef3aaa91",
   "metadata": {},
   "outputs": [],
   "source": [
    "# Create a numpy array with 6 ones"
   ]
  },
  {
   "cell_type": "code",
   "execution_count": 53,
   "id": "972f6c64-f168-494d-ab97-4ed15116b7a9",
   "metadata": {},
   "outputs": [],
   "source": [
    "arr6 = np.ones(6)"
   ]
  },
  {
   "cell_type": "code",
   "execution_count": 54,
   "id": "2f12cfa1-86e0-48f3-8a0b-7cc3be14079f",
   "metadata": {},
   "outputs": [],
   "source": [
    "# print the array"
   ]
  },
  {
   "cell_type": "code",
   "execution_count": 55,
   "id": "f3687920-b7c3-4727-8f88-002f7cde0910",
   "metadata": {},
   "outputs": [
    {
     "name": "stdout",
     "output_type": "stream",
     "text": [
      "print the array: [1. 1. 1. 1. 1. 1.]\n"
     ]
    }
   ],
   "source": [
    "print(\"print the array:\" ,arr6)"
   ]
  },
  {
   "cell_type": "code",
   "execution_count": 56,
   "id": "3fa07903-10fc-4477-a7cc-2ff1aae60716",
   "metadata": {},
   "outputs": [],
   "source": [
    "# 8 Create a numpy array with 12 '3's and print the array. [3 3 3 3 3 3 3 3 3 3 3 3]"
   ]
  },
  {
   "cell_type": "code",
   "execution_count": 64,
   "id": "df9afc87-f220-4f8a-a14f-dd9b9371dc1e",
   "metadata": {},
   "outputs": [],
   "source": [
    "arr7 = np.full(12,3)"
   ]
  },
  {
   "cell_type": "code",
   "execution_count": 60,
   "id": "7350256e-f135-4aa0-9e1d-c34322f7e7f0",
   "metadata": {},
   "outputs": [],
   "source": [
    "# print the array"
   ]
  },
  {
   "cell_type": "code",
   "execution_count": 65,
   "id": "d1101791-0067-4843-b317-4b67fa773247",
   "metadata": {},
   "outputs": [
    {
     "name": "stdout",
     "output_type": "stream",
     "text": [
      "print the array: [3 3 3 3 3 3 3 3 3 3 3 3]\n"
     ]
    }
   ],
   "source": [
    "print(\"print the array:\" ,arr7)"
   ]
  },
  {
   "cell_type": "code",
   "execution_count": 68,
   "id": "39d18576-868a-4cf2-9963-f2ee900daf49",
   "metadata": {},
   "outputs": [],
   "source": [
    "# 9 Create a numpy array of the integers from 8 to 20 and print the array. (make sure 20 itself is included) hint:  use \"arange\" method"
   ]
  },
  {
   "cell_type": "code",
   "execution_count": 67,
   "id": "539ce721-63d7-466a-8f6e-b5c304a68449",
   "metadata": {},
   "outputs": [],
   "source": [
    "# Create a numpy array of the integers from 8 to 20"
   ]
  },
  {
   "cell_type": "code",
   "execution_count": 74,
   "id": "e641204e-09e5-4ef5-8bd8-cd65bcf47f9e",
   "metadata": {},
   "outputs": [],
   "source": [
    "arr8 = np.arange(8,21)"
   ]
  },
  {
   "cell_type": "code",
   "execution_count": 72,
   "id": "2db7dc92-f6a0-4650-96a5-f3c1ba937803",
   "metadata": {},
   "outputs": [],
   "source": [
    "# print the array"
   ]
  },
  {
   "cell_type": "code",
   "execution_count": 75,
   "id": "ecb1fa82-d95b-4c21-849e-95a074e94737",
   "metadata": {},
   "outputs": [
    {
     "name": "stdout",
     "output_type": "stream",
     "text": [
      "print the array: [ 8  9 10 11 12 13 14 15 16 17 18 19 20]\n"
     ]
    }
   ],
   "source": [
    "print(\"print the array:\" ,arr8)"
   ]
  },
  {
   "cell_type": "code",
   "execution_count": 76,
   "id": "198b1cc5-433a-4476-a570-298c652fc42e",
   "metadata": {},
   "outputs": [],
   "source": [
    "# 10 Create a numpy array of the even integers from 8 to 20 and print the array. (make sure 20 itself is included)   hint:  use \"arange\" method"
   ]
  },
  {
   "cell_type": "code",
   "execution_count": 77,
   "id": "b89b2ef8-7a85-4689-90a9-d76dd211cee2",
   "metadata": {},
   "outputs": [],
   "source": [
    "# Create a numpy array of the even integers from 8 to 20"
   ]
  },
  {
   "cell_type": "code",
   "execution_count": 85,
   "id": "5e8b2a11-6dd2-4a99-8b8d-3a03baf5d116",
   "metadata": {},
   "outputs": [],
   "source": [
    "array_even =np.arange(8,21,2)"
   ]
  },
  {
   "cell_type": "code",
   "execution_count": 79,
   "id": "059ad1f1-818f-4922-8b0f-eaf2c0ebe8be",
   "metadata": {},
   "outputs": [],
   "source": [
    "# print the array"
   ]
  },
  {
   "cell_type": "code",
   "execution_count": 86,
   "id": "f680fe4e-5227-405e-b451-382b6e70585c",
   "metadata": {},
   "outputs": [
    {
     "name": "stdout",
     "output_type": "stream",
     "text": [
      "print the array: [ 8 10 12 14 16 18 20]\n"
     ]
    }
   ],
   "source": [
    "print(\"print the array:\" ,array_even)"
   ]
  },
  {
   "cell_type": "code",
   "execution_count": 87,
   "id": "ff1db12e-7d56-495c-b54a-fd3536d6a302",
   "metadata": {},
   "outputs": [],
   "source": [
    "# 11 Create a numpy array consisting of 100 random elements from normal distribution with mean of 2 and std of 0.5. Print the mean, max, min and std of the array."
   ]
  },
  {
   "cell_type": "code",
   "execution_count": 95,
   "id": "6fbc01cd-fec8-4084-a69b-8a2b16f8c5f7",
   "metadata": {},
   "outputs": [],
   "source": [
    "# Create a numpy array consisting of 100 random elements  from normal distribution with mean of 2 and std of 0.5"
   ]
  },
  {
   "cell_type": "code",
   "execution_count": 90,
   "id": "ae409544-8f90-4b53-90da-f46baff3159a",
   "metadata": {},
   "outputs": [],
   "source": [
    "random_values_array = np.random.normal(2, 0.5, 100)   "
   ]
  },
  {
   "cell_type": "code",
   "execution_count": 91,
   "id": "39244c6d-dccc-4259-be12-19d0050813b4",
   "metadata": {},
   "outputs": [],
   "source": [
    "#  Print the mean, max, min and std of the array"
   ]
  },
  {
   "cell_type": "code",
   "execution_count": 101,
   "id": "7fc55c28-71e3-4001-ad78-d46ad7fa92c9",
   "metadata": {},
   "outputs": [
    {
     "name": "stdout",
     "output_type": "stream",
     "text": [
      "The mean element in the array is:  1.975458237080243\n",
      "The max element in the array is:  3.5788739925253603\n",
      "The min element in the array is:  0.3817093311100417\n",
      "The std element in the array is:  0.505400779101046\n"
     ]
    }
   ],
   "source": [
    "print(\"The mean element in the array is: \", random_values_array.mean())\n",
    "print(\"The max element in the array is: \", random_values_array.max())\n",
    "print(\"The min element in the array is: \", random_values_array.min())\n",
    "print(\"The std element in the array is: \", random_values_array.std())"
   ]
  },
  {
   "cell_type": "code",
   "execution_count": 94,
   "id": "7b0b2775-e017-4f48-a3c8-5c0516ad9160",
   "metadata": {},
   "outputs": [],
   "source": [
    "# 12 Create a numpy array consisting of 1000 random elements from normal distribution with mean of 2 and std of 0.5. Print the mean, max, min and std of the array."
   ]
  },
  {
   "cell_type": "code",
   "execution_count": 96,
   "id": "11423384-c54c-48bd-a64d-f47dd50d3af5",
   "metadata": {},
   "outputs": [],
   "source": [
    "# Create a numpy array consisting of 1000 random elements  from normal distribution with mean of 2 and std of 0.5"
   ]
  },
  {
   "cell_type": "code",
   "execution_count": 104,
   "id": "11519603-0585-472f-adbd-52462885a4aa",
   "metadata": {},
   "outputs": [],
   "source": [
    "random_value_array = np.random.normal(2, 0.5, 1000) "
   ]
  },
  {
   "cell_type": "code",
   "execution_count": 98,
   "id": "80088ef9-ef7d-4f0c-8f3e-6b7bbb2b4ac9",
   "metadata": {},
   "outputs": [],
   "source": [
    "#  Print the mean, max, min and std of the array"
   ]
  },
  {
   "cell_type": "code",
   "execution_count": 105,
   "id": "04304430-cb55-49e0-8d7c-7ade350ecb4a",
   "metadata": {},
   "outputs": [
    {
     "name": "stdout",
     "output_type": "stream",
     "text": [
      "The mean element in the array is:  1.987510651133659\n",
      "The max element in the array is:  3.4887237538699183\n",
      "The min element in the array is:  0.4059832505142591\n",
      "The std element in the array is:  0.5025386962411726\n"
     ]
    }
   ],
   "source": [
    "print(\"The mean element in the array is: \", random_value_array.mean())\n",
    "print(\"The max element in the array is: \", random_value_array.max())\n",
    "print(\"The min element in the array is: \", random_value_array.min())\n",
    "print(\"The std element in the array is: \", random_value_array.std())"
   ]
  },
  {
   "cell_type": "code",
   "execution_count": null,
   "id": "9878fc05-ad0d-4409-b505-c3b6fa12a08a",
   "metadata": {},
   "outputs": [],
   "source": [
    "# 13 Create a numpy array consisting of 1000000 random elements from normal distribution with mean of 2 and std of 0.5. Print the mean, max, min and std of the array."
   ]
  },
  {
   "cell_type": "code",
   "execution_count": 108,
   "id": "da62fe18-9504-446e-ba1d-27dbbd09b5b6",
   "metadata": {},
   "outputs": [],
   "source": [
    "# Create a numpy array consisting of 1000000 random elements  from normal distribution with mean of 2 and std of 0.5"
   ]
  },
  {
   "cell_type": "code",
   "execution_count": 110,
   "id": "8d548acb-ea2a-4e52-8081-d1528b46ba7c",
   "metadata": {},
   "outputs": [],
   "source": [
    "random_values_array = np.random.normal(2, 0.5, 1000000) "
   ]
  },
  {
   "cell_type": "code",
   "execution_count": 109,
   "id": "a4bb6864-a4c9-4079-aa08-b1e132c21e1b",
   "metadata": {},
   "outputs": [],
   "source": [
    "#  Print the mean, max, min and std of the array"
   ]
  },
  {
   "cell_type": "code",
   "execution_count": 111,
   "id": "ea72d776-2b3d-4e18-a881-1b51383b7fac",
   "metadata": {},
   "outputs": [
    {
     "name": "stdout",
     "output_type": "stream",
     "text": [
      "The mean element in the array is:  1.9998510062806891\n",
      "The max element in the array is:  4.53324448133626\n",
      "The min element in the array is:  -0.3210451442786977\n",
      "The std element in the array is:  0.49978780218389235\n"
     ]
    }
   ],
   "source": [
    "print(\"The mean element in the array is: \", random_values_array.mean())\n",
    "print(\"The max element in the array is: \", random_values_array.max())\n",
    "print(\"The min element in the array is: \", random_values_array.min())\n",
    "print(\"The std element in the array is: \", random_values_array.std())"
   ]
  },
  {
   "cell_type": "code",
   "execution_count": 112,
   "id": "0caca645-a2d0-4063-8773-8ca67b439a64",
   "metadata": {},
   "outputs": [],
   "source": [
    "# 14 (Bonus question) Looking at the three above examples with 1000, 5000, and 10000 random elements, do you have any observations about mean and std values?"
   ]
  },
  {
   "cell_type": "code",
   "execution_count": null,
   "id": "2b6b1984-0354-4a32-a305-d963313ba09f",
   "metadata": {},
   "outputs": [],
   "source": [
    "# As far as We concerned, as the value of random elements increases, when we will get more accurate answer."
   ]
  }
 ],
 "metadata": {
  "kernelspec": {
   "display_name": "Python 3 (ipykernel)",
   "language": "python",
   "name": "python3"
  },
  "language_info": {
   "codemirror_mode": {
    "name": "ipython",
    "version": 3
   },
   "file_extension": ".py",
   "mimetype": "text/x-python",
   "name": "python",
   "nbconvert_exporter": "python",
   "pygments_lexer": "ipython3",
   "version": "3.12.4"
  }
 },
 "nbformat": 4,
 "nbformat_minor": 5
}
